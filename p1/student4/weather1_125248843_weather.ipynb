{
 "cells": [
  {
   "cell_type": "markdown",
   "metadata": {
    "collapsed": false,
    "jupyter": {
     "outputs_hidden": false
    }
   },
   "source": [
    "# Project 1: Weather Analyzer\n",
    "\n",
    "For this project, you are going to write code to analyze the high and low temperatures near Grand Rapids over the past 30 years. In this workspace, you should have two data files:\n",
    "\n",
    "* `grr_high_low_94_24.csv.gz` contains the actual high and low temperatures measured at the airport from October 1994 through early February 2024.\n",
    "* `clarksville_mi_data.csv.gz` contains estimated high and low temperatures in a city near Grand Rapids. This data is similar to, but not identical to, the data measured at the airport.\n",
    "\n",
    "Both of these files have been compressed in `gzip` format to reduce the space consumed on the PrairieLearn servers. Please do not store uncompressed versions of these files in your PrairieLearn workspace. The file `grr_sample.csv` contains the first 500 lines of the data file uncompressed, so you can see the structure of the file.\n",
    "\n",
    "***Important!**  Take time to carefully check your work before submitting.\n",
    "You are limited to <em>three</em> submissions per day. Do not use the PrairieLearn autograder \n",
    "as a substitute for preparing your own test cases.</p>\n",
    "\n",
    "This three-submission-per-day limit is a policy, not a technical limit. In other words, \n",
    "  PrairieLearn will not prevent you from making additional submissions; but, doing so may lower your score.\n",
    "\n",
    "\n",
    "### Task 1\n",
    "\n",
    "Some of the tasks below will require you to determine which of two dates comes earlier or later in the year (e.g., 14 April or 3 May). Complete the two functions below.\n",
    "\n",
    "(Python does have a `datetime` module; but, this library assumes that all dates have a year, which is not a valid assumption for the code you will be writing for this project. You are allowed to use `datetime` if you like; but, \n",
    "these functions can be implemented in five lines or fewer without it.)"
   ]
  },
  {
   "cell_type": "code",
   "execution_count": 42,
   "metadata": {
    "collapsed": false,
    "jupyter": {
     "outputs_hidden": false
    }
   },
   "outputs": [],
   "source": [
    "#grade DO NOT REMOVE\n",
    "\n",
    "# return True if m1/d1 comes earlier in the year than m2/d2, otherwise return False\n",
    "# Do not use Python's datetime module\n",
    "import calendar\n",
    "\n",
    "def is_date_before(m1 :int, d1 :int , m2 : int, d2 :int) -> bool:\n",
    "    if m2>m1:\n",
    "        return True\n",
    "    elif m1==m2:\n",
    "        if d2>d1:\n",
    "            return True\n",
    "        \n",
    "        else:\n",
    "            return False\n",
    "    else:\n",
    "        return False\n",
    "            \n",
    "\n",
    "    \n",
    "\n",
    "\n",
    "# return True if m1/d1 comes later in the year than m2/d2, otherwise return False\n",
    "# Do not use Python's datetime module\n",
    "\n",
    "def is_date_after(m1 :int, d1 :int , m2 : int, d2 :int) -> bool:\n",
    "    if m1>m2:\n",
    "        return True\n",
    "    elif m1==m2:\n",
    "        if d1>d2:\n",
    "            return True\n",
    "        \n",
    "        else:\n",
    "            return False\n",
    "    else:\n",
    "        return False\n",
    "            \n"
   ]
  },
  {
   "cell_type": "code",
   "execution_count": 43,
   "metadata": {},
   "outputs": [
    {
     "name": "stdout",
     "output_type": "stream",
     "text": [
      "True\n",
      "False\n"
     ]
    }
   ],
   "source": [
    "# Use this block to test your code.\n",
    "# (This block is not run by the auto-grader)\n",
    "# Add more tests.\n",
    "print(is_date_before(1, 1, 2, 1))\n",
    "\n",
    "print(is_date_after(1, 1, 2, 1))\n"
   ]
  },
  {
   "cell_type": "code",
   "execution_count": 44,
   "metadata": {},
   "outputs": [
    {
     "name": "stdout",
     "output_type": "stream",
     "text": [
      "True\n"
     ]
    }
   ],
   "source": [
    "print(is_date_before(2, 5, 2, 30))\n",
    "\n"
   ]
  },
  {
   "cell_type": "code",
   "execution_count": 45,
   "metadata": {},
   "outputs": [
    {
     "name": "stdout",
     "output_type": "stream",
     "text": [
      "False\n"
     ]
    }
   ],
   "source": [
    "print(is_date_after(2, 1, 2, 1))"
   ]
  },
  {
   "cell_type": "markdown",
   "metadata": {},
   "source": [
    "### Task 2\n",
    "\n",
    "Write a function `all_low_below` that returns the list of all dates on which the low temperature was below the given threshold temperature. Dates should be strings in `mm/dd/yyyy` format.\n",
    "\n",
    "The \"starter code\" in the function below shows how to read the csv data from a file that is compressed. You may either use this code as is or modify it if you like. \n",
    "\n",
    "**Important**: Please do not uncompress or modify the `.gz`files.  The uncompressed files are large and storing them would strain the PrairieLearn system."
   ]
  },
  {
   "cell_type": "code",
   "execution_count": 4,
   "metadata": {},
   "outputs": [],
   "source": [
    "#grade DO NOT REMOVE\n",
    "import gzip\n",
    "import csv\n",
    "from datetime import datetime\n",
    "\n",
    "def all_low_below(filename: str, threshold: int | float) -> list[str]:\n",
    "    with gzip.open(filename, 'rt') as csv_file:\n",
    "        f = csv.reader(csv_file)\n",
    "        next(f, None)  # skip the header row\n",
    "        result = []\n",
    "        for i in f:\n",
    "            # Convert date string to datetime object\n",
    "            date_str = i[-5]\n",
    "            month1 = int(i[-5].split('/')[0])  \n",
    "            day1 = int(i[-5].split('/')[1])   \n",
    "            year1 = int(i[-5].split('/')[2])\n",
    "            \n",
    "            \n",
    "            if int(i[-2]) < int(threshold):\n",
    "               \n",
    "                formatted_date=f'{month1:02d}/{day1:02d}/{year1:02d}'\n",
    "                result.append(formatted_date)\n",
    "    return result\n",
    "      \n",
    "            \n",
    "        \n",
    "        \n",
    "      "
   ]
  },
  {
   "cell_type": "code",
   "execution_count": null,
   "metadata": {},
   "outputs": [],
   "source": [
    "\n"
   ]
  },
  {
   "cell_type": "code",
   "execution_count": 5,
   "metadata": {},
   "outputs": [
    {
     "name": "stdout",
     "output_type": "stream",
     "text": [
      "['02/03/1996', '02/04/1996', '01/27/2003', '02/05/2007', '02/28/2014', '01/14/2015', '02/20/2015', '02/27/2015', '12/27/2017', '01/06/2018', '02/17/2021']\n"
     ]
    }
   ],
   "source": [
    "# Use this block to test your code.\n",
    "# (This block is not run by the auto-grader)\n",
    "# Add more tests.\n",
    "print(all_low_below('grr_high_low_94_24.csv.gz', -10))"
   ]
  },
  {
   "cell_type": "code",
   "execution_count": 19,
   "metadata": {},
   "outputs": [],
   "source": [
    "\n"
   ]
  },
  {
   "cell_type": "code",
   "execution_count": null,
   "metadata": {},
   "outputs": [],
   "source": []
  },
  {
   "cell_type": "code",
   "execution_count": null,
   "metadata": {},
   "outputs": [],
   "source": []
  },
  {
   "cell_type": "code",
   "execution_count": null,
   "metadata": {},
   "outputs": [],
   "source": []
  },
  {
   "cell_type": "code",
   "execution_count": null,
   "metadata": {},
   "outputs": [],
   "source": []
  },
  {
   "cell_type": "markdown",
   "metadata": {},
   "source": [
    "## Task 3\n",
    "\n",
    "Write a function `minima_for_day` that returns the list of years during which the minimum for that date was observed. The return value is a list because the minimum may have been observed during several different years."
   ]
  },
  {
   "cell_type": "code",
   "execution_count": 46,
   "metadata": {},
   "outputs": [],
   "source": [
    "#grade DO NOT REMOVE\n",
    "import gzip\n",
    "import csv\n",
    "\n",
    "def minima_for_day(filename: str, month: int, day: int) -> list[int]:\n",
    "    with gzip.open(filename, 'rt') as csv_file:\n",
    "        f = csv.reader(csv_file)\n",
    "        next(f, None) # skip the header row\n",
    "        ye = []\n",
    "        temp = float('inf')\n",
    "        for i in f:\n",
    "            month1 = int(i[-5].split('/')[0])  \n",
    "            day1 = int(i[-5].split('/')[1])   \n",
    "            year1 = int(i[-5].split('/')[2])\n",
    "            if month1 == month and day1 == day:\n",
    "                if int(i[-2]) < temp:\n",
    "                    temp = int(i[-2]) \n",
    "                    ye = [year1] \n",
    "                elif int(i[-2]) == temp:\n",
    "                    ye.append(year1)  \n",
    "    return ye\n",
    "\n",
    "\n",
    "\n"
   ]
  },
  {
   "cell_type": "code",
   "execution_count": 47,
   "metadata": {},
   "outputs": [
    {
     "name": "stdout",
     "output_type": "stream",
     "text": [
      "[1999, 2014, 2017, 2022]\n"
     ]
    }
   ],
   "source": [
    "print(minima_for_day('grr_high_low_94_24.csv.gz',3,12))"
   ]
  },
  {
   "cell_type": "markdown",
   "metadata": {},
   "source": [
    "## Task 4\n",
    "\n",
    "Write a function `earliest_high_below` that returns the earliest date in any year that the high temperature was below <span style=\"font-family: monospace;\">threshold</span> degrees. Dates should be strings in `mm/dd/yyyy` format.\n",
    "\n",
    "**Only consider dates on or after 1 July.**\n"
   ]
  },
  {
   "cell_type": "code",
   "execution_count": 6,
   "metadata": {},
   "outputs": [],
   "source": [
    "#grade DO NOT REMOVE\n",
    "\n",
    "\n",
    "\n",
    "import pandas as pd\n",
    "\n",
    "def earliest_high_below(filename: str, threshold: int|float) -> str:\n",
    "    # Read the CSV file into a DataFrame\n",
    "    df = pd.read_csv(filename)\n",
    "    \n",
    "    # Convert the 'DATE' column to datetime format\n",
    "    df['date'] = pd.to_datetime(df['DATE'])\n",
    "    \n",
    "    # Filter the DataFrame to include only dates on or after 1 July\n",
    "    df = df[df['date'].dt.month >= 7]\n",
    "    \n",
    "    # Filter the DataFrame to include only high temperatures below the threshold\n",
    "    below_threshold = df[df['TMAX'] < threshold].copy()\n",
    "    \n",
    "    # Create a new column for month and day\n",
    "    below_threshold['month_day'] = below_threshold['date'].dt.strftime('%m/%d')\n",
    "    \n",
    "    # Find the earliest month and day when the high temperature was below threshold\n",
    "    earliest_month_day = below_threshold['month_day'].min()\n",
    "    \n",
    "    # Find the earliest date corresponding to the earliest month and day\n",
    "    earliest_date = below_threshold.loc[below_threshold['month_day'] == earliest_month_day, 'date'].min()\n",
    "    \n",
    "    # Convert the earliest date to string in mm/dd/yyyy format\n",
    "    earliest_date_str = earliest_date.strftime('%m/%d/%Y')\n",
    "    \n",
    "    return earliest_date_str\n",
    "\n",
    "\n"
   ]
  },
  {
   "cell_type": "code",
   "execution_count": 7,
   "metadata": {},
   "outputs": [
    {
     "data": {
      "text/plain": [
       "'07/01/1995'"
      ]
     },
     "execution_count": 7,
     "metadata": {},
     "output_type": "execute_result"
    }
   ],
   "source": [
    "# Use this block to test your code.\n",
    "# (This block is not run by the auto-grader)\n",
    "# Add your own tests.\n",
    "earliest_high_below('grr_high_low_94_24.csv.gz', 110 )"
   ]
  },
  {
   "cell_type": "code",
   "execution_count": 4,
   "metadata": {},
   "outputs": [],
   "source": []
  },
  {
   "cell_type": "code",
   "execution_count": null,
   "metadata": {},
   "outputs": [],
   "source": []
  },
  {
   "cell_type": "code",
   "execution_count": null,
   "metadata": {},
   "outputs": [],
   "source": []
  }
 ],
 "metadata": {
  "kernelspec": {
   "display_name": "Python 3 (ipykernel)",
   "language": "python",
   "name": "python3"
  },
  "language_info": {
   "codemirror_mode": {
    "name": "ipython",
    "version": 3
   },
   "file_extension": ".py",
   "mimetype": "text/x-python",
   "name": "python",
   "nbconvert_exporter": "python",
   "pygments_lexer": "ipython3",
   "version": "3.11.5"
  }
 },
 "nbformat": 4,
 "nbformat_minor": 4
}

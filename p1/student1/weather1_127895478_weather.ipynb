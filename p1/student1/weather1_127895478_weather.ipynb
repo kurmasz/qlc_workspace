{
 "cells": [
  {
   "cell_type": "markdown",
   "metadata": {
    "collapsed": false,
    "jupyter": {
     "outputs_hidden": false
    }
   },
   "source": [
    "# Project 1: Weather Analyzer\n",
    "\n",
    "For this project, you are going to write code to analyze the high and low temperatures near Grand Rapids over the past 30 years. In this workspace, you should have two data files:\n",
    "\n",
    "* `grr_high_low_94_24.csv.gz` contains the actual high and low temperatures measured at the airport from October 1994 through early February 2024.\n",
    "* `cassopolis_mi_data.csv.gz` contains estimated high and low temperatures in a city near Grand Rapids. This data is similar to, but not identical to, the data measured at the airport.\n",
    "\n",
    "Both of these files have been compressed in `gzip` format to reduce the space consumed on the PrairieLearn servers. Please do not store uncompressed versions of these files in your PrairieLearn workspace. The file `grr_sample.csv` contains the first 500 lines of the data file uncompressed, so you can see the structure of the file.\n",
    "\n",
    "***Important!**  Take time to carefully check your work before submitting.\n",
    "You are limited to <em>three</em> submissions per day. Do not use the PrairieLearn autograder \n",
    "as a substitute for preparing your own test cases.</p>\n",
    "\n",
    "This three-submission-per-day limit is a policy, not a technical limit. In other words, \n",
    "  PrairieLearn will not prevent you from making additional submissions; but, doing so may lower your score.\n",
    "\n",
    "\n",
    "### Task 1\n",
    "\n",
    "Some of the tasks below will require you to determine which of two dates comes earlier or later in the year (e.g., 14 April or 3 May). Complete the two functions below.\n",
    "\n",
    "(Python does have a `datetime` module; but, this library assumes that all dates have a year, which is not a valid assumption for the code you will be writing for this project. You are allowed to use `datetime` if you like; but, \n",
    "these functions can be implemented in five lines or fewer without it.)"
   ]
  },
  {
   "cell_type": "code",
   "execution_count": 4,
   "metadata": {
    "collapsed": false,
    "jupyter": {
     "outputs_hidden": false
    }
   },
   "outputs": [
    {
     "name": "stdout",
     "output_type": "stream",
     "text": [
      "False\n"
     ]
    }
   ],
   "source": [
    "#grade DO NOT REMOVE\n",
    "\n",
    "# return True if m1/d1 comes earlier in the year than m2/d2, otherwise return False\n",
    "# Do not use Python's datetime module\n",
    "\n",
    "def is_date_before(m1 :int, d1 :int , m2 : int, d2 :int) -> bool:\n",
    "    if m1 < m2:\n",
    "        return True\n",
    "    elif m1 == m2:\n",
    "        if d1 < d2:\n",
    "            return True\n",
    "    return False\n",
    "    \n",
    "day_check = is_date_before(10, 25, 3, 26)\n",
    "print(day_check)\n",
    "\n",
    "# return True if m1/d1 comes later in the year than m2/d2, otherwise return False\n",
    "# Do not use Python's datetime module\n",
    "\n",
    "def is_date_after(m1 :int, d1 :int , m2 : int, d2 :int) -> bool:\n",
    "    if m1 > m2:\n",
    "        return True\n",
    "    elif m1 == m2:\n",
    "        if d1 > d2:\n",
    "            return True\n",
    "    return False\n",
    "\n"
   ]
  },
  {
   "cell_type": "code",
   "execution_count": 5,
   "metadata": {},
   "outputs": [
    {
     "name": "stdout",
     "output_type": "stream",
     "text": [
      "True\n"
     ]
    }
   ],
   "source": [
    "day_check = is_date_after(10, 27, 10, 26)\n",
    "print(day_check)"
   ]
  },
  {
   "cell_type": "code",
   "execution_count": 6,
   "metadata": {},
   "outputs": [
    {
     "name": "stdout",
     "output_type": "stream",
     "text": [
      "True\n",
      "False\n"
     ]
    }
   ],
   "source": [
    "# Use this block to test your code.\n",
    "# (This block is not run by the auto-grader)\n",
    "# Add more tests.\n",
    "print(is_date_before(1, 1, 2, 1))\n",
    "\n",
    "print(is_date_after(1, 1, 2, 1))\n"
   ]
  },
  {
   "cell_type": "markdown",
   "metadata": {},
   "source": [
    "### Task 2\n",
    "\n",
    "Write a function `all_low_above` that returns the list of all dates on which the low temperature was above the given threshold temperature. Dates should be strings in `mm/dd/yyyy` format.\n",
    "\n",
    "The \"starter code\" in the function below shows how to read the csv data from a file that is compressed. You may either use this code as is or modify it if you like. \n",
    "\n",
    "**Important**: Please do not uncompress or modify the `.gz`files.  The uncompressed files are large and storing them would strain the PrairieLearn system."
   ]
  },
  {
   "cell_type": "code",
   "execution_count": 16,
   "metadata": {},
   "outputs": [],
   "source": [
    "#grade DO NOT REMOVE\n",
    "import gzip\n",
    "import csv\n",
    "\n",
    "def all_low_above(filename: str, threshold: int | float) -> list[str]:\n",
    "  with gzip.open(filename, 'rt') as csv_file:\n",
    "    f = csv.reader(csv_file)\n",
    "    next(f, None) # skip the header row\n",
    "    date = []\n",
    "    for row in f:\n",
    "        #date_split = row[5].split('/')\n",
    "        # zk Added a comment to change where not appears.\n",
    "        low_temp = (int(row[5]))\n",
    "        if low_temp > threshold:\n",
    "            month, day, year = row[2].split('/')\n",
    "            formatted_date = f\"{int(month):02d}/{int(day):02d}/{year}\"\n",
    "            date.append(formatted_date)\n",
    "    return date\n",
    "\n",
    "#assign a varable tp slpi\n"
   ]
  },
  {
   "cell_type": "code",
   "execution_count": 17,
   "metadata": {},
   "outputs": [
    {
     "name": "stdout",
     "output_type": "stream",
     "text": [
      "['07/13/1995', '07/14/1995', '06/25/1998', '07/04/1999', '08/01/2006', '08/02/2006', '06/19/2012', '07/04/2012', '07/07/2012', '07/17/2012', '07/19/2013', '09/10/2013', '06/30/2018', '07/19/2019', '06/15/2022']\n"
     ]
    }
   ],
   "source": [
    "# Use this block to test your code.\n",
    "# (This block is not run by the auto-grader)\n",
    "# Add more tests.\n",
    "print(all_low_above('grr_high_low_94_24.csv.gz', 76))"
   ]
  },
  {
   "cell_type": "markdown",
   "metadata": {},
   "source": [
    "## Task 3\n",
    "\n",
    "Write a function `maxima_for_day` that returns the list of years during which the maximum for that date was observed. The return value is a list because the maximum may have been observed during several different years."
   ]
  },
  {
   "cell_type": "code",
   "execution_count": 14,
   "metadata": {},
   "outputs": [],
   "source": [
    "#grade DO NOT REMOVE\n",
    "import gzip\n",
    "import csv\n",
    "\n",
    "def maxima_for_day(filename: str, month: int, day: int) -> list[int]:\n",
    "  with gzip.open(filename, 'rt') as csv_file:\n",
    "    f = csv.reader(csv_file)\n",
    "    next(f, None) # skip the header row\n",
    "    max_value = float('-inf')\n",
    "    maximum = []\n",
    "    \n",
    "    for row in f:\n",
    "        date = row[2].split('/')\n",
    "        month_row = int(date[0])\n",
    "        day_row = int(date[1])\n",
    "        year_row = int(date[2])\n",
    "        if month_row == month and day_row == day:\n",
    "            tmin = int(row[5])\n",
    "            if tmin > max_value:\n",
    "                max_value = tmin\n",
    "                maximum = [year_row]\n",
    "            elif tmin == max_value:\n",
    "                maximum.append(year_row)\n",
    "    return maximum\n"
   ]
  },
  {
   "cell_type": "code",
   "execution_count": 15,
   "metadata": {},
   "outputs": [
    {
     "data": {
      "text/plain": [
       "[2006]"
      ]
     },
     "execution_count": 15,
     "metadata": {},
     "output_type": "execute_result"
    }
   ],
   "source": [
    "maxima_for_day('grr_high_low_94_24.csv.gz', 1, 1)"
   ]
  },
  {
   "cell_type": "code",
   "execution_count": null,
   "metadata": {},
   "outputs": [],
   "source": []
  },
  {
   "cell_type": "code",
   "execution_count": null,
   "metadata": {},
   "outputs": [],
   "source": [
    "# Use this block to test your code.\n",
    "# (This block is not run by the auto-grader)\n",
    "# Add your own tests."
   ]
  },
  {
   "cell_type": "markdown",
   "metadata": {},
   "source": [
    "## Task 4\n",
    "\n",
    "Write a function `earliest_low_below` that returns the earliest date in any year that the low temperature was below <span style=\"font-family: monospace;\">threshold</span> degrees. Dates should be strings in `mm/dd/yyyy` format.\n",
    "\n",
    "**Only consider dates on or after 1 July.**\n"
   ]
  },
  {
   "cell_type": "code",
   "execution_count": 11,
   "metadata": {},
   "outputs": [],
   "source": [
    "#grade DO NOT REMOVE\n",
    "import gzip\n",
    "import csv\n",
    "\n",
    "def earliest_low_below(filename: str, threshold: int|float) -> str:\n",
    "  with gzip.open(filename, 'rt') as csv_file:\n",
    "    f = csv.reader(csv_file)\n",
    "    next(f, None) # skip the header row\n",
    "    y = 0\n",
    "    value = 0\n",
    "    \n",
    "    for row in f:\n",
    "        date_split = row[2].split('/')\n",
    "        date_month = int(date_split[0])\n",
    "        date_day = int(date_split[1])\n",
    "        date_year = int(date_split[2])\n",
    "        if int(row[4]) < threshold and date_month >= 7:\n",
    "            date = f\"{date_month:02d}/{date_day:02d}/{date_year}\"\n",
    "            if (value == 0 or date < value):\n",
    "                value = date\n",
    "                x = value.split('/')\n",
    "            if (x[0] > date[0]):\n",
    "                y = value\n",
    "            if x[0] == date[0] and x[1] > date[1]:\n",
    "                y = value\n",
    "    return y"
   ]
  },
  {
   "cell_type": "code",
   "execution_count": 12,
   "metadata": {},
   "outputs": [
    {
     "name": "stdout",
     "output_type": "stream",
     "text": [
      "11/10/2017\n"
     ]
    }
   ],
   "source": [
    "print(earliest_low_below('grr_high_low_94_24.csv.gz', 32))"
   ]
  },
  {
   "cell_type": "code",
   "execution_count": null,
   "metadata": {},
   "outputs": [],
   "source": [
    "# Use this block to test your code.\n",
    "# (This block is not run by the auto-grader)\n",
    "# Add your own tests."
   ]
  }
 ],
 "metadata": {
  "kernelspec": {
   "display_name": "Python 3 (ipykernel)",
   "language": "python",
   "name": "python3"
  },
  "language_info": {
   "codemirror_mode": {
    "name": "ipython",
    "version": 3
   },
   "file_extension": ".py",
   "mimetype": "text/x-python",
   "name": "python",
   "nbconvert_exporter": "python",
   "pygments_lexer": "ipython3",
   "version": "3.11.5"
  }
 },
 "nbformat": 4,
 "nbformat_minor": 4
}

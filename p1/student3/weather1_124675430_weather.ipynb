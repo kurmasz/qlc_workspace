{
 "cells": [
  {
   "cell_type": "markdown",
   "metadata": {
    "collapsed": false,
    "jupyter": {
     "outputs_hidden": false
    }
   },
   "source": [
    "# Project 1: Weather Analyzer\n",
    "\n",
    "For this project, you are going to write code to analyze the high and low temperatures near Grand Rapids over the past 30 years. In this workspace, you should have two data files:\n",
    "\n",
    "* `grr_high_low_94_24.csv.gz` contains the actual high and low temperatures measured at the airport from October 1994 through early February 2024.\n",
    "* `alto_mi_data.csv.gz` contains estimated high and low temperatures in a city near Grand Rapids. This data is similar to, but not identical to, the data measured at the airport.\n",
    "\n",
    "Both of these files have been compressed in `gzip` format to reduce the space consumed on the PrairieLearn servers. Please do not store uncompressed versions of these files in your PrairieLearn workspace. The file `grr_sample.csv` contains the first 500 lines of the data file uncompressed, so you can see the structure of the file.\n",
    "\n",
    "***Important!**  Take time to carefully check your work before submitting.\n",
    "You are limited to <em>three</em> submissions per day. Do not use the PrairieLearn autograder \n",
    "as a substitute for preparing your own test cases.</p>\n",
    "\n",
    "This three-submission-per-day limit is a policy, not a technical limit. In other words, \n",
    "  PrairieLearn will not prevent you from making additional submissions; but, doing so may lower your score.\n",
    "\n",
    "\n",
    "### Task 1\n",
    "\n",
    "Some of the tasks below will require you to determine which of two dates comes earlier or later in the year (e.g., 14 April or 3 May). Complete the two functions below.\n",
    "\n",
    "(Python does have a `datetime` module; but, this library assumes that all dates have a year, which is not a valid assumption for the code you will be writing for this project. You are allowed to use `datetime` if you like; but, \n",
    "these functions can be implemented in five lines or fewer without it.)"
   ]
  },
  {
   "cell_type": "code",
   "execution_count": 9,
   "metadata": {
    "collapsed": false,
    "jupyter": {
     "outputs_hidden": false
    }
   },
   "outputs": [],
   "source": [
    "#grade DO NOT REMOVE\n",
    "\n",
    "# return True if m1/d1 comes earlier in the year than m2/d2, otherwise return False\n",
    "# Do not use Python's datetime module\n",
    "\n",
    "def is_date_before(m1 :int, d1 :int , m2 : int, d2 :int) -> bool:\n",
    "    return d1 < d2 if m1 == m2 else m1 < m2\n",
    "\n",
    "\n",
    "# return True if m1/d1 comes later in the year than m2/d2, otherwise return False\n",
    "# Do not use Python's datetime module\n",
    "\n",
    "def is_date_after(m1 :int, d1 :int , m2 : int, d2 :int) -> bool:\n",
    "    return d1 > d2 if m1 == m2 else m1 > m2\n",
    "\n",
    "\n",
    "\n",
    "\n"
   ]
  },
  {
   "cell_type": "code",
   "execution_count": 10,
   "metadata": {},
   "outputs": [
    {
     "name": "stdout",
     "output_type": "stream",
     "text": [
      "True\n",
      "True\n",
      "False\n",
      "False\n",
      "False\n",
      "True\n"
     ]
    }
   ],
   "source": [
    "# Use this block to test your code.\n",
    "# (This block is not run by the auto-grader)\n",
    "# Add more tests.\n",
    "print(is_date_before(1, 1, 2, 1))\n",
    "print(is_date_before(2, 5, 2, 17))\n",
    "print(is_date_before(3, 4, 1, 15))\n",
    "\n",
    "\n",
    "print(is_date_after(1, 1, 2, 1))\n",
    "print(is_date_after(5, 3, 5, 6))\n",
    "print(is_date_after(12, 1, 4, 13))\n",
    "\n"
   ]
  },
  {
   "cell_type": "markdown",
   "metadata": {},
   "source": [
    "### Task 2\n",
    "\n",
    "Write a function `all_low_above` that returns the list of all dates on which the low temperature was above the given threshold temperature. Dates should be strings in `mm/dd/yyyy` format.\n",
    "\n",
    "The \"starter code\" in the function below shows how to read the csv data from a file that is compressed. You may either use this code as is or modify it if you like. \n",
    "\n",
    "**Important**: Please do not uncompress or modify the `.gz`files.  The uncompressed files are large and storing them would strain the PrairieLearn system."
   ]
  },
  {
   "cell_type": "code",
   "execution_count": 7,
   "metadata": {},
   "outputs": [],
   "source": [
    "#grade DO NOT REMOVE\n",
    "import gzip\n",
    "import csv\n",
    "\n",
    "def all_low_above(filename: str, threshold: int | float) -> list[str]:\n",
    "  with gzip.open(filename, 'rt') as csv_file:\n",
    "    f = csv.reader(csv_file)\n",
    "    next(f, None) # skip the header row\n",
    "    low_above_list = []\n",
    "    for row in f:\n",
    "        if float(row[5] or 0) > threshold:\n",
    "            date_strings = row[2].split('/')\n",
    "            if len(date_strings[0]) != 2:\n",
    "                date_strings[0] = f\"0{date_strings[0]}\"\n",
    "            if len(date_strings[1]) != 2:\n",
    "                date_strings[1] = f\"0{date_strings[1]}\"\n",
    "            low_above_list.append('/'.join(date_strings))\n",
    "    return low_above_list\n",
    "\n",
    "\n"
   ]
  },
  {
   "cell_type": "code",
   "execution_count": 8,
   "metadata": {},
   "outputs": [
    {
     "name": "stdout",
     "output_type": "stream",
     "text": [
      "[]\n",
      "['07/14/1995']\n",
      "['07/05/1995', '07/13/1995', '07/14/1995', '07/15/1995', '08/04/1995', '08/12/1995', '08/13/1995', '08/14/1995', '08/18/1995', '05/19/1996', '06/29/1996', '08/06/1996', '08/07/1996', '06/24/1997', '07/14/1997', '07/26/1997', '06/25/1998', '08/23/1998', '08/24/1998', '06/06/1999', '07/04/1999', '07/05/1999', '07/31/1999', '07/23/2001', '08/01/2001', '08/02/2001', '08/07/2001', '08/08/2001', '08/09/2001', '06/26/2002', '07/01/2002', '07/02/2002', '07/21/2002', '07/22/2002', '07/28/2002', '07/29/2002', '08/04/2002', '08/15/2003', '06/08/2004', '06/09/2004', '07/12/2004', '08/27/2004', '06/24/2005', '06/28/2005', '07/13/2005', '07/18/2005', '07/25/2005', '06/17/2006', '07/20/2006', '07/25/2006', '07/26/2006', '07/31/2006', '08/01/2006', '08/02/2006', '07/08/2007', '07/09/2007', '08/07/2007', '08/08/2007', '08/09/2007', '06/06/2008', '07/08/2008', '07/18/2008', '08/22/2008', '06/25/2009', '08/17/2009', '07/05/2010', '07/06/2010', '07/07/2010', '07/08/2010', '07/17/2010', '07/23/2010', '07/24/2010', '08/03/2010', '08/04/2010', '08/08/2010', '08/09/2010', '08/11/2010', '08/12/2010', '08/14/2010', '08/15/2010', '08/21/2010', '08/31/2010', '06/07/2011', '06/08/2011', '07/10/2011', '07/18/2011', '07/19/2011', '07/20/2011', '07/21/2011', '07/22/2011', '07/23/2011', '07/28/2011', '07/29/2011', '08/01/2011', '08/02/2011', '08/06/2011', '09/02/2011', '09/03/2011', '06/19/2012', '06/20/2012', '07/03/2012', '07/04/2012', '07/05/2012', '07/06/2012', '07/07/2012', '07/17/2012', '07/18/2012', '07/23/2012', '07/26/2012', '08/03/2012', '07/07/2013', '07/08/2013', '07/15/2013', '07/16/2013', '07/17/2013', '07/18/2013', '07/19/2013', '08/27/2013', '09/10/2013', '06/29/2014', '08/30/2014', '09/02/2015', '09/07/2015', '06/26/2016', '07/12/2016', '07/18/2016', '07/22/2016', '08/12/2016', '09/06/2016', '09/07/2016', '06/11/2017', '06/18/2018', '06/30/2018', '07/01/2018', '07/04/2018', '07/05/2018', '07/10/2018', '07/14/2018', '08/05/2018', '07/02/2019', '07/04/2019', '07/05/2019', '07/16/2019', '07/17/2019', '07/18/2019', '07/19/2019', '07/27/2019', '07/28/2019', '07/08/2020', '07/22/2020', '08/25/2020', '08/27/2020', '06/29/2021', '07/05/2021', '07/06/2021', '07/27/2021', '08/08/2021', '08/12/2021', '08/27/2021', '08/28/2021', '08/29/2021', '06/15/2022', '07/19/2022', '08/03/2022', '08/07/2022', '08/24/2023', '09/05/2023']\n"
     ]
    }
   ],
   "source": [
    "# Use this block to test your code.\n",
    "# (This block is not run by the auto-grader)\n",
    "print(all_low_above('grr_high_low_94_24.csv.gz', 98))\n",
    "print(all_low_above('grr_high_low_94_24.csv.gz', 80))\n",
    "print(all_low_above('grr_high_low_94_24.csv.gz', 70))\n",
    "\n"
   ]
  },
  {
   "cell_type": "markdown",
   "metadata": {},
   "source": [
    "## Task 3\n",
    "\n",
    "Write a function `minima_for_day` that returns the list of years during which the minimum for that date was observed. The return value is a list because the minimum may have been observed during several different years."
   ]
  },
  {
   "cell_type": "code",
   "execution_count": 11,
   "metadata": {},
   "outputs": [],
   "source": [
    "#grade DO NOT REMOVE\n",
    "import gzip\n",
    "import csv\n",
    "\n",
    "def minima_for_day(filename: str, month: int, day: int) -> list[int]:\n",
    "  with gzip.open(filename, 'rt') as csv_file:\n",
    "    f = csv.reader(csv_file)\n",
    "    next(f, None) # skip the header row\n",
    "    temp_cache = {}\n",
    "    for row in f:\n",
    "      if f\"{month}/{day}\" in row[2]:\n",
    "        min_temp = int(row[5])\n",
    "        if min_temp in temp_cache:\n",
    "            temp_cache[min_temp].append(int(row[2].split('/')[2]))\n",
    "        else:\n",
    "            temp_cache[min_temp] = [int(row[2].split('/')[2])]\n",
    "    return temp_cache[min(temp_cache.keys())]"
   ]
  },
  {
   "cell_type": "code",
   "execution_count": 12,
   "metadata": {},
   "outputs": [
    {
     "name": "stdout",
     "output_type": "stream",
     "text": [
      "[2002]\n",
      "[2015]\n",
      "[2005, 2011]\n"
     ]
    }
   ],
   "source": [
    "# Use this block to test your code.\n",
    "# (This block is not run by the auto-grader)\n",
    "print(minima_for_day('grr_high_low_94_24.csv.gz', 7, 12))\n",
    "print(minima_for_day('grr_high_low_94_24.csv.gz', 2, 15))\n",
    "print(minima_for_day('grr_high_low_94_24.csv.gz', 1, 23))\n"
   ]
  },
  {
   "cell_type": "markdown",
   "metadata": {},
   "source": [
    "## Task 4\n",
    "\n",
    "Write a function `earliest_low_above` that returns the earliest date in any year that the low temperature was above <span style=\"font-family: monospace;\">threshold</span> degrees. Dates should be strings in `mm/dd/yyyy` format.\n",
    "\n",
    "****\n"
   ]
  },
  {
   "cell_type": "code",
   "execution_count": 4,
   "metadata": {},
   "outputs": [],
   "source": [
    "#grade DO NOT REMOVE\n",
    "import gzip\n",
    "import csv\n",
    "\n",
    "def earliest_low_above(filename: str, threshold: int|float) -> str:\n",
    "  with gzip.open(filename, 'rt') as csv_file:\n",
    "    f = csv.reader(csv_file)\n",
    "    next(f, None) # skip the header row\n",
    "    target = ['12', '31', '2100']\n",
    "    for row in f:\n",
    "        if float(row[5]) > threshold:\n",
    "            current = row[2].split('/')\n",
    "            if int(current[0]) < int(target[0]):\n",
    "                target = current\n",
    "            elif int(current[0]) == int(target[0]) and int(current[1]) < int(target[1]):\n",
    "                target = current\n",
    "    if len(target[0]) != 2:\n",
    "        target[0] = f\"0{target[0]}\"\n",
    "    if len(target[1]) != 2:\n",
    "        target[1] = f\"0{target[1]}\"\n",
    "    return '/'.join(target)\n",
    "\n"
   ]
  },
  {
   "cell_type": "code",
   "execution_count": 5,
   "metadata": {},
   "outputs": [
    {
     "name": "stdout",
     "output_type": "stream",
     "text": [
      "07/14/1995\n",
      "06/30/2018\n",
      "01/05/2007\n",
      "01/05/1998\n"
     ]
    }
   ],
   "source": [
    "# Use this block to test your code.\n",
    "# (This block is not run by the auto-grader)\n",
    "print(earliest_low_above('grr_high_low_94_24.csv.gz', 80))\n",
    "print(earliest_low_above('grr_high_low_94_24.csv.gz', 77))\n",
    "print(earliest_low_above('grr_high_low_94_24.csv.gz', 43))\n",
    "print(earliest_low_above('grr_high_low_94_24.csv.gz', 42))\n"
   ]
  },
  {
   "cell_type": "code",
   "execution_count": null,
   "metadata": {},
   "outputs": [],
   "source": []
  },
  {
   "cell_type": "code",
   "execution_count": null,
   "metadata": {},
   "outputs": [],
   "source": []
  },
  {
   "cell_type": "code",
   "execution_count": null,
   "metadata": {},
   "outputs": [],
   "source": []
  }
 ],
 "metadata": {
  "kernelspec": {
   "display_name": "Python 3 (ipykernel)",
   "language": "python",
   "name": "python3"
  },
  "language_info": {
   "codemirror_mode": {
    "name": "ipython",
    "version": 3
   },
   "file_extension": ".py",
   "mimetype": "text/x-python",
   "name": "python",
   "nbconvert_exporter": "python",
   "pygments_lexer": "ipython3",
   "version": "3.11.5"
  }
 },
 "nbformat": 4,
 "nbformat_minor": 4
}

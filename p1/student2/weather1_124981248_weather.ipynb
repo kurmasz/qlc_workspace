{
 "cells": [
  {
   "cell_type": "markdown",
   "metadata": {
    "collapsed": false,
    "jupyter": {
     "outputs_hidden": false
    }
   },
   "source": [
    "# Project 1: Weather Analyzer\n",
    "\n",
    "For this project, you are going to write code to analyze the high and low temperatures near Grand Rapids over the past 30 years. In this workspace, you should have two data files:\n",
    "\n",
    "* `grr_high_low_94_24.csv.gz` contains the actual high and low temperatures measured at the airport from October 1994 through early February 2024.\n",
    "* `iona_mi_data.csv.gz` contains estimated high and low temperatures in a city near Grand Rapids. This data is similar to, but not identical to, the data measured at the airport.\n",
    "\n",
    "Both of these files have been compressed in `gzip` format to reduce the space consumed on the PrairieLearn servers. Please do not store uncompressed versions of these files in your PrairieLearn workspace. The file `grr_sample.csv` contains the first 500 lines of the data file uncompressed, so you can see the structure of the file.\n",
    "\n",
    "***Important!**  Take time to carefully check your work before submitting.\n",
    "You are limited to <em>three</em> submissions per day. Do not use the PrairieLearn autograder \n",
    "as a substitute for preparing your own test cases.</p>\n",
    "\n",
    "This three-submission-per-day limit is a policy, not a technical limit. In other words, \n",
    "  PrairieLearn will not prevent you from making additional submissions; but, doing so may lower your score.\n",
    "\n",
    "\n",
    "### Task 1\n",
    "\n",
    "Some of the tasks below will require you to determine which of two dates comes earlier or later in the year (e.g., 14 April or 3 May). Complete the two functions below.\n",
    "\n",
    "(Python does have a `datetime` module; but, this library assumes that all dates have a year, which is not a valid assumption for the code you will be writing for this project. You are allowed to use `datetime` if you like; but, \n",
    "these functions can be implemented in five lines or fewer without it.)"
   ]
  },
  {
   "cell_type": "code",
   "execution_count": 11,
   "metadata": {
    "collapsed": false,
    "jupyter": {
     "outputs_hidden": false
    }
   },
   "outputs": [],
   "source": [
    "#grade DO NOT REMOVE\n",
    "\n",
    "# return True if m1/d1 comes earlier in the year than m2/d2, otherwise return False\n",
    "# Do not use Python's datetime module\n",
    "\n",
    "def is_date_before(m1: int, d1: int, m2: int, d2: int) -> bool:\n",
    "    if m1 < m2:\n",
    "        return True\n",
    "    elif m1 == m2:\n",
    "        return d1 < d2\n",
    "    else:\n",
    "        return False\n",
    "\n",
    "\n",
    "# return True if m1/d1 comes later in the year than m2/d2, otherwise return False\n",
    "# Do not use Python's datetime module\n",
    "\n",
    "def is_date_after(m1: int, d1: int, m2: int, d2: int) -> bool:\n",
    "    if m1 > m2:\n",
    "        return True\n",
    "    elif m1 == m2:\n",
    "        return d1 > d2\n",
    "    else:\n",
    "        return False\n"
   ]
  },
  {
   "cell_type": "code",
   "execution_count": 12,
   "metadata": {},
   "outputs": [
    {
     "name": "stdout",
     "output_type": "stream",
     "text": [
      "True\n",
      "False\n"
     ]
    }
   ],
   "source": [
    "# Use this block to test your code.\n",
    "# (This block is not run by the auto-grader)\n",
    "# Add more tests.\n",
    "print(is_date_before(1, 1, 2, 1))\n",
    "\n",
    "print(is_date_after(1, 1, 2, 1))\n"
   ]
  },
  {
   "cell_type": "markdown",
   "metadata": {},
   "source": [
    "### Task 2\n",
    "\n",
    "Write a function `all_high_above` that returns the list of all dates on which the high temperature was above the given threshold temperature. Dates should be strings in `mm/dd/yyyy` format.\n",
    "\n",
    "The \"starter code\" in the function below shows how to read the csv data from a file that is compressed. You may either use this code as is or modify it if you like. \n",
    "\n",
    "**Important**: Please do not uncompress or modify the `.gz`files.  The uncompressed files are large and storing them would strain the PrairieLearn system."
   ]
  },
  {
   "cell_type": "code",
   "execution_count": 13,
   "metadata": {},
   "outputs": [
    {
     "name": "stdout",
     "output_type": "stream",
     "text": [
      "['STATION', 'NAME', 'DATE', 'TAVG', 'TMAX', 'TMIN', 'TOBS']\n",
      "['USW00094860', 'GRAND RAPIDS GERALD R FORD INTERNATIONAL AIRPORT, MI US', '10/1/1994', '', '63', '43', '']\n",
      "['USW00094860', 'GRAND RAPIDS GERALD R FORD INTERNATIONAL AIRPORT, MI US', '10/2/1994', '', '61', '36', '']\n",
      "['USW00094860', 'GRAND RAPIDS GERALD R FORD INTERNATIONAL AIRPORT, MI US', '10/3/1994', '', '61', '36', '']\n",
      "['USW00094860', 'GRAND RAPIDS GERALD R FORD INTERNATIONAL AIRPORT, MI US', '10/4/1994', '', '58', '44', '']\n",
      "['USW00094860', 'GRAND RAPIDS GERALD R FORD INTERNATIONAL AIRPORT, MI US', '10/5/1994', '', '58', '40', '']\n",
      "['USW00094860', 'GRAND RAPIDS GERALD R FORD INTERNATIONAL AIRPORT, MI US', '10/6/1994', '', '71', '40', '']\n",
      "['USW00094860', 'GRAND RAPIDS GERALD R FORD INTERNATIONAL AIRPORT, MI US', '10/7/1994', '', '77', '53', '']\n",
      "['USW00094860', 'GRAND RAPIDS GERALD R FORD INTERNATIONAL AIRPORT, MI US', '10/8/1994', '', '72', '51', '']\n",
      "['USW00094860', 'GRAND RAPIDS GERALD R FORD INTERNATIONAL AIRPORT, MI US', '10/9/1994', '', '53', '40', '']\n",
      "['USW00094860', 'GRAND RAPIDS GERALD R FORD INTERNATIONAL AIRPORT, MI US', '10/10/1994', '', '56', '31', '']\n",
      "['USW00094860', 'GRAND RAPIDS GERALD R FORD INTERNATIONAL AIRPORT, MI US', '10/11/1994', '', '62', '32', '']\n",
      "['USW00094860', 'GRAND RAPIDS GERALD R FORD INTERNATIONAL AIRPORT, MI US', '10/12/1994', '', '70', '35', '']\n",
      "['USW00094860', 'GRAND RAPIDS GERALD R FORD INTERNATIONAL AIRPORT, MI US', '10/13/1994', '', '66', '38', '']\n",
      "['USW00094860', 'GRAND RAPIDS GERALD R FORD INTERNATIONAL AIRPORT, MI US', '10/14/1994', '', '66', '41', '']\n",
      "['USW00094860', 'GRAND RAPIDS GERALD R FORD INTERNATIONAL AIRPORT, MI US', '10/15/1994', '', '60', '40', '']\n",
      "['USW00094860', 'GRAND RAPIDS GERALD R FORD INTERNATIONAL AIRPORT, MI US', '10/16/1994', '', '73', '44', '']\n",
      "['USW00094860', 'GRAND RAPIDS GERALD R FORD INTERNATIONAL AIRPORT, MI US', '10/17/1994', '', '77', '54', '']\n",
      "['USW00094860', 'GRAND RAPIDS GERALD R FORD INTERNATIONAL AIRPORT, MI US', '10/18/1994', '', '65', '59', '']\n",
      "['USW00094860', 'GRAND RAPIDS GERALD R FORD INTERNATIONAL AIRPORT, MI US', '10/19/1994', '', '70', '53', '']\n",
      "['USW00094860', 'GRAND RAPIDS GERALD R FORD INTERNATIONAL AIRPORT, MI US', '10/20/1994', '', '59', '47', '']\n",
      "['USW00094860', 'GRAND RAPIDS GERALD R FORD INTERNATIONAL AIRPORT, MI US', '10/21/1994', '', '65', '38', '']\n",
      "['USW00094860', 'GRAND RAPIDS GERALD R FORD INTERNATIONAL AIRPORT, MI US', '10/22/1994', '', '68', '39', '']\n",
      "['USW00094860', 'GRAND RAPIDS GERALD R FORD INTERNATIONAL AIRPORT, MI US', '10/23/1994', '', '58', '44', '']\n",
      "['USW00094860', 'GRAND RAPIDS GERALD R FORD INTERNATIONAL AIRPORT, MI US', '10/24/1994', '', '50', '40', '']\n",
      "['USW00094860', 'GRAND RAPIDS GERALD R FORD INTERNATIONAL AIRPORT, MI US', '10/25/1994', '', '43', '36', '']\n",
      "['USW00094860', 'GRAND RAPIDS GERALD R FORD INTERNATIONAL AIRPORT, MI US', '10/26/1994', '', '48', '36', '']\n",
      "['USW00094860', 'GRAND RAPIDS GERALD R FORD INTERNATIONAL AIRPORT, MI US', '10/27/1994', '', '56', '41', '']\n",
      "['USW00094860', 'GRAND RAPIDS GERALD R FORD INTERNATIONAL AIRPORT, MI US', '10/28/1994', '', '61', '43', '']\n",
      "['USW00094860', 'GRAND RAPIDS GERALD R FORD INTERNATIONAL AIRPORT, MI US', '10/29/1994', '', '60', '42', '']\n",
      "['USW00094860', 'GRAND RAPIDS GERALD R FORD INTERNATIONAL AIRPORT, MI US', '10/30/1994', '', '61', '32', '']\n",
      "['USW00094860', 'GRAND RAPIDS GERALD R FORD INTERNATIONAL AIRPORT, MI US', '10/31/1994', '', '54', '35', '']\n",
      "['USW00094860', 'GRAND RAPIDS GERALD R FORD INTERNATIONAL AIRPORT, MI US', '11/1/1994', '', '50', '33', '']\n",
      "['USW00094860', 'GRAND RAPIDS GERALD R FORD INTERNATIONAL AIRPORT, MI US', '11/2/1994', '', '59', '29', '']\n",
      "['USW00094860', 'GRAND RAPIDS GERALD R FORD INTERNATIONAL AIRPORT, MI US', '11/3/1994', '', '64', '48', '']\n",
      "['USW00094860', 'GRAND RAPIDS GERALD R FORD INTERNATIONAL AIRPORT, MI US', '11/4/1994', '', '65', '55', '']\n",
      "['USW00094860', 'GRAND RAPIDS GERALD R FORD INTERNATIONAL AIRPORT, MI US', '11/5/1994', '', '55', '51', '']\n",
      "['USW00094860', 'GRAND RAPIDS GERALD R FORD INTERNATIONAL AIRPORT, MI US', '11/6/1994', '', '58', '36', '']\n",
      "['USW00094860', 'GRAND RAPIDS GERALD R FORD INTERNATIONAL AIRPORT, MI US', '11/7/1994', '', '56', '30', '']\n",
      "['USW00094860', 'GRAND RAPIDS GERALD R FORD INTERNATIONAL AIRPORT, MI US', '11/8/1994', '', '60', '45', '']\n",
      "['USW00094860', 'GRAND RAPIDS GERALD R FORD INTERNATIONAL AIRPORT, MI US', '11/9/1994', '', '50', '36', '']\n",
      "['USW00094860', 'GRAND RAPIDS GERALD R FORD INTERNATIONAL AIRPORT, MI US', '11/10/1994', '', '52', '28', '']\n",
      "['USW00094860', 'GRAND RAPIDS GERALD R FORD INTERNATIONAL AIRPORT, MI US', '11/11/1994', '', '52', '27', '']\n",
      "['USW00094860', 'GRAND RAPIDS GERALD R FORD INTERNATIONAL AIRPORT, MI US', '11/12/1994', '', '54', '37', '']\n",
      "['USW00094860', 'GRAND RAPIDS GERALD R FORD INTERNATIONAL AIRPORT, MI US', '11/13/1994', '', '63', '49', '']\n",
      "['USW00094860', 'GRAND RAPIDS GERALD R FORD INTERNATIONAL AIRPORT, MI US', '11/14/1994', '', '61', '42', '']\n",
      "['USW00094860', 'GRAND RAPIDS GERALD R FORD INTERNATIONAL AIRPORT, MI US', '11/15/1994', '', '48', '31', '']\n",
      "['USW00094860', 'GRAND RAPIDS GERALD R FORD INTERNATIONAL AIRPORT, MI US', '11/16/1994', '', '50', '27', '']\n",
      "['USW00094860', 'GRAND RAPIDS GERALD R FORD INTERNATIONAL AIRPORT, MI US', '11/17/1994', '', '52', '30', '']\n",
      "['USW00094860', 'GRAND RAPIDS GERALD R FORD INTERNATIONAL AIRPORT, MI US', '11/18/1994', '', '59', '41', '']\n"
     ]
    }
   ],
   "source": [
    "import gzip\n",
    "import csv\n",
    "\n",
    "def display_csv_content(filename: str):\n",
    "    with gzip.open(filename, 'rt') as csv_file:\n",
    "        f = csv.reader(csv_file)\n",
    "        for i, row in enumerate(f):\n",
    "            if i >= 50:  # Print only the first 5 rows\n",
    "                break\n",
    "            print(row)\n",
    "\n",
    "# Example usage:\n",
    "display_csv_content('grr_high_low_94_24.csv.gz')\n"
   ]
  },
  {
   "cell_type": "code",
   "execution_count": 14,
   "metadata": {},
   "outputs": [],
   "source": [
    "#grade DO NOT REMOVE\n",
    "import gzip\n",
    "import csv\n",
    "\n",
    "def all_high_above(filename: str, threshold: float) -> list[str]:\n",
    "    dates_above_threshold = []\n",
    "    \n",
    "    with gzip.open(filename, 'rt') as file:\n",
    "        reader = csv.reader(file)\n",
    "        header = next(reader)  # Skip the header row\n",
    "        \n",
    "        for row in reader:\n",
    "            date = row[2]\n",
    "            high_temp = row[4]\n",
    "            \n",
    "            if high_temp and threshold < float(high_temp):\n",
    "                date_parts = date.split('/')\n",
    "                if len(date_parts) == 3:\n",
    "                    month = date_parts[0].zfill(2)\n",
    "                    day = date_parts[1].zfill(2)\n",
    "                    year = date_parts[2]\n",
    "                    date = f\"{month}/{day}/{year}\"\n",
    "                    dates_above_threshold.append(date)\n",
    "    return dates_above_threshold"
   ]
  },
  {
   "cell_type": "code",
   "execution_count": 15,
   "metadata": {},
   "outputs": [
    {
     "name": "stdout",
     "output_type": "stream",
     "text": [
      "['07/05/2012', '07/06/2012']\n"
     ]
    }
   ],
   "source": [
    "# Use this block to test your code.\n",
    "# (This block is not run by the auto-grader)\n",
    "# Add more tests.\n",
    "print(all_high_above('grr_high_low_94_24.csv.gz', 99))"
   ]
  },
  {
   "cell_type": "markdown",
   "metadata": {},
   "source": [
    "## Task 3\n",
    "\n",
    "Write a function `minima_for_day` that returns the list of years during which the minimum for that date was observed. The return value is a list because the minimum may have been observed during several different years."
   ]
  },
  {
   "cell_type": "code",
   "execution_count": 16,
   "metadata": {},
   "outputs": [],
   "source": [
    "#grade DO NOT REMOVE\n",
    "import gzip\n",
    "import csv\n",
    "\n",
    "def minima_for_day(filename: str, month: int, day: int) -> list[int]:\n",
    "    min_temp = float('inf')  # Initialize min_temp to positive infinity\n",
    "    years_with_min_temp = []\n",
    "\n",
    "    with gzip.open(filename, 'rt') as csv_file:\n",
    "        f = csv.reader(csv_file)\n",
    "        next(f, None)  # Skip the header row\n",
    "        for row in f:\n",
    "            date_parts = row[2].split('/')  # Assuming the date is in the third column\n",
    "            row_month = int(date_parts[0])\n",
    "            row_day = int(date_parts[1])\n",
    "            if row_month == month and row_day == day:\n",
    "                try:\n",
    "                    temperature = float(row[5])  # Assuming the temperature is in the sixth column\n",
    "                except ValueError:\n",
    "                    continue  # Skip rows where temperature conversion fails\n",
    "                if temperature < min_temp:\n",
    "                    min_temp = temperature\n",
    "                    years_with_min_temp = [int(date_parts[2])]  # Extract the year from the date and convert to int\n",
    "                elif temperature == min_temp:\n",
    "                    years_with_min_temp.append(int(date_parts[2]))\n",
    "\n",
    "    return years_with_min_temp if years_with_min_temp else []  # Return an empty list if no minimum temperature is found"
   ]
  },
  {
   "cell_type": "code",
   "execution_count": 17,
   "metadata": {},
   "outputs": [
    {
     "name": "stdout",
     "output_type": "stream",
     "text": [
      "[2004]\n"
     ]
    }
   ],
   "source": [
    "# Use this block to test your code.\n",
    "# (This block is not run by the auto-grader)\n",
    "# Add your own tests.\n",
    "# Test with provided data file\n",
    "print(minima_for_day('grr_high_low_94_24.csv.gz', 10, 5))  # Assuming 10/1 is the date for testing"
   ]
  },
  {
   "cell_type": "markdown",
   "metadata": {},
   "source": [
    "## Task 4\n",
    "\n",
    "Write a function `earliest_low_above` that returns the earliest date in any year that the low temperature was above <span style=\"font-family: monospace;\">threshold</span> degrees. Dates should be strings in `mm/dd/yyyy` format.\n",
    "\n",
    "****\n"
   ]
  },
  {
   "cell_type": "code",
   "execution_count": 18,
   "metadata": {},
   "outputs": [],
   "source": [
    "#grade DO NOT REMOVE\n",
    "import csv\n",
    "import gzip\n",
    "from datetime import datetime\n",
    "\n",
    "def earliest_low_above(filename: str, threshold: float) -> str:\n",
    "    earliest_date_str = None\n",
    "    earliest_month_day = None\n",
    "    \n",
    "    with gzip.open(filename, 'rt') as csv_file:\n",
    "        f = csv.reader(csv_file)\n",
    "        next(f, None)  # Skip the header row\n",
    "        \n",
    "        above_threshold = []\n",
    "        \n",
    "        earliest_date_str = min(filter(lambda x: x['month_day'] == earliest_month_day, above_threshold), key=lambda x: x['date'])['date'].strftime('%m/%d/%Y')\n",
    "        if above_threshold:\n",
    "            earliest_month_day = min(above_threshold, key=lambda x: x['month_day'])['month_day']\n",
    "            earliest_date_str = min(filter(lambda x: x['month_day'] == earliest_month_day, above_threshold), key=lambda x: x['date'])['date'].strftime('%m/%d/%Y')\n",
    "            \n",
    "    return earliest_date_str\n"
   ]
  },
  {
   "cell_type": "code",
   "execution_count": 19,
   "metadata": {},
   "outputs": [
    {
     "name": "stdout",
     "output_type": "stream",
     "text": [
      "01/01/2006\n",
      "01/02/2004\n",
      "01/07/2008\n",
      "03/21/2012\n"
     ]
    }
   ],
   "source": [
    "# Test with provided data file and threshold 30\n",
    "print(earliest_low_above('grr_high_low_94_24.csv.gz', 30))  # Expected output: '1/10/2020' (assuming it's the earliest date with low temperature above 30)\n",
    "\n",
    "# Test with provided data file and threshold 40\n",
    "print(earliest_low_above('grr_high_low_94_24.csv.gz', 40))  # Expected output: '1/7/2008' (assuming it's the earliest date with low temperature above 40)\n",
    "\n",
    "# Test with provided data file and threshold 50\n",
    "print(earliest_low_above('grr_high_low_94_24.csv.gz', 50))  # Expected output: '1/1/2006' (assuming it's the earliest date with low temperature above 50)\n",
    "\n",
    "# Test with provided data file and threshold 60\n",
    "print(earliest_low_above('grr_high_low_94_24.csv.gz', 60))  # Expected output: '1/1/1996' (assuming it's the earliest date with low temperature above 60)\n"
   ]
  },
  {
   "cell_type": "code",
   "execution_count": null,
   "metadata": {},
   "outputs": [],
   "source": []
  }
 ],
 "metadata": {
  "kernelspec": {
   "display_name": "Python 3 (ipykernel)",
   "language": "python",
   "name": "python3"
  },
  "language_info": {
   "codemirror_mode": {
    "name": "ipython",
    "version": 3
   },
   "file_extension": ".py",
   "mimetype": "text/x-python",
   "name": "python",
   "nbconvert_exporter": "python",
   "pygments_lexer": "ipython3",
   "version": "3.11.5"
  }
 },
 "nbformat": 4,
 "nbformat_minor": 4
}
